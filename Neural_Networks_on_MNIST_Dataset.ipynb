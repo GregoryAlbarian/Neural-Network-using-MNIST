{
  "nbformat": 4,
  "nbformat_minor": 0,
  "metadata": {
    "colab": {
      "name": "Neural Networks on MNIST Dataset",
      "provenance": [],
      "collapsed_sections": [],
      "include_colab_link": true
    },
    "kernelspec": {
      "name": "python3",
      "display_name": "Python 3"
    },
    "language_info": {
      "name": "python"
    },
    "accelerator": "GPU"
  },
  "cells": [
    {
      "cell_type": "markdown",
      "metadata": {
        "id": "view-in-github",
        "colab_type": "text"
      },
      "source": [
        "<a href=\"https://colab.research.google.com/github/GregoryAlbarian/Neural-Network-using-MNIST/blob/main/Neural_Networks_on_MNIST_Dataset.ipynb\" target=\"_parent\"><img src=\"https://colab.research.google.com/assets/colab-badge.svg\" alt=\"Open In Colab\"/></a>"
      ]
    },
    {
      "cell_type": "markdown",
      "metadata": {
        "id": "vCz9cxAw4_oF"
      },
      "source": [
        "# Neural Networks on MNIST Handwritten Digit Dataset"
      ]
    },
    {
      "cell_type": "code",
      "metadata": {
        "colab": {
          "base_uri": "https://localhost:8080/",
          "height": 34
        },
        "id": "XHA5xDHkGQVa",
        "outputId": "4ad7c73b-b91e-4bab-a826-7d25dc9b7a43"
      },
      "source": [
        "from IPython.display import Image\n",
        "Image(\"Screen Shot 2021-04-26 at 2.33.41 PM.png\")"
      ],
      "execution_count": null,
      "outputs": [
        {
          "output_type": "execute_result",
          "data": {
            "image/png": "Screen Shot 2021-04-26 at 2.33.41 PM.png",
            "text/plain": [
              "<IPython.core.display.Image object>"
            ]
          },
          "metadata": {},
          "execution_count": 1
        }
      ]
    },
    {
      "cell_type": "markdown",
      "source": [
        "### Imports and Preprocessing Data\n",
        "\n"
      ],
      "metadata": {
        "id": "7kkCySjjgbup"
      }
    },
    {
      "cell_type": "code",
      "metadata": {
        "colab": {
          "base_uri": "https://localhost:8080/"
        },
        "id": "87-fv4hq0c8d",
        "outputId": "6fb27ba6-2504-44c4-c740-bfe6d10df5af"
      },
      "source": [
        "import sys\n",
        "from matplotlib import pyplot\n",
        "from keras.utils import to_categorical\n",
        "from keras.models import Sequential\n",
        "from keras.layers import Conv2D\n",
        "from keras.layers import MaxPooling2D\n",
        "from keras.layers import Dense\n",
        "from keras.layers import Flatten\n",
        "from keras.optimizers import SGD\n",
        "from keras.datasets import mnist\n",
        "import keras\n",
        "\n",
        "# load train and test dataset\n",
        "# load dataset\n",
        "import keras\n",
        "(trainX, trainY), (testX, testY) = mnist.load_data()\n",
        "\n",
        "# Prepare Pixel Data\n",
        "# convert from integers to floats\n",
        "\n",
        "\n",
        "# 0-9 numbered images\n",
        "num_classes = 10\n",
        "\n",
        "# flatten the data\n",
        "# trainX = trainX.reshape(-1, 784) #28*28=784\n",
        "# testX = testX.reshape(-1, 784)\n",
        "\n",
        "train_norm = trainX.astype('float32')\n",
        "test_norm = testX.astype('float32')\n",
        "# normalize to range 0-1\n",
        "train_norm = train_norm / 255.0\n",
        "test_norm = test_norm / 255.0 #Data normalization is an important step which ensures that each input parameter (pixel, in this case)\n",
        "#has a similar data distribution. This makes convergence faster while training the network\n",
        "\n",
        "\n",
        "# one hot encode target values\n",
        "trainY = keras.utils.to_categorical(trainY)\n",
        "testY = keras.utils.to_categorical(testY)\n",
        "train_norm.shape , test_norm.shape"
      ],
      "execution_count": null,
      "outputs": [
        {
          "output_type": "execute_result",
          "data": {
            "text/plain": [
              "((60000, 28, 28), (10000, 28, 28))"
            ]
          },
          "metadata": {
            "tags": []
          },
          "execution_count": 7
        }
      ]
    },
    {
      "cell_type": "markdown",
      "source": [
        "### Convolutional Neural Network (CNN)"
      ],
      "metadata": {
        "id": "xp2Rapzogop0"
      }
    },
    {
      "cell_type": "code",
      "metadata": {
        "id": "tySaCmmY3j9D",
        "colab": {
          "base_uri": "https://localhost:8080/"
        },
        "outputId": "79b2b7ad-155c-48d7-c3fd-ecaf1726bc53"
      },
      "source": [
        "# your code goes here\n",
        "model = Sequential()\n",
        "model.add(Conv2D(32, (3, 3), activation='relu', padding='same', input_shape=(28, 28, 1)))\n",
        "model.add(Conv2D(32, (3, 3), activation='relu', padding='same'))\n",
        "model.add(MaxPooling2D((2, 2)))\n",
        "# output part of the model\n",
        "model.add(Flatten())\n",
        "model.add(Dense(128, activation='relu'))\n",
        "model.add(Dense(10, activation='softmax'))\n",
        "# compile model\n",
        "opt = SGD(lr=0.001, momentum=0.9)\n",
        "model.compile(optimizer=opt, loss='categorical_crossentropy', metrics=['accuracy'])\n",
        "\n",
        "# fit model\n",
        "\n",
        "# one hot encode target values\n",
        "\n",
        "trainX = trainX.reshape((trainX.shape[0], 28, 28, 1))\n",
        "testX = testX.reshape((testX.shape[0], 28, 28, 1))\n",
        "\n",
        "opt = SGD(lr=0.001, momentum=0.9)\n",
        "# compile model\n",
        "model.compile(optimizer=opt, loss='categorical_crossentropy', metrics=['accuracy'])\n",
        "\n",
        "# fit model\n",
        "history = model.fit(trainX, trainY, epochs=32, batch_size=64, validation_data=(testX, testY), verbose=0)\n",
        "_, acc = model.evaluate(testX, testY, verbose=0)\n",
        "print('> %.3f' % (acc * 100.0))"
      ],
      "execution_count": null,
      "outputs": [
        {
          "output_type": "stream",
          "text": [
            "> 98.910\n"
          ],
          "name": "stdout"
        }
      ]
    },
    {
      "cell_type": "markdown",
      "metadata": {
        "id": "iv8ApcDw3-sQ"
      },
      "source": [
        "### Fully Connected Neural Network (FCNN)"
      ]
    },
    {
      "cell_type": "code",
      "metadata": {
        "id": "PO8ZXMJe4e6f"
      },
      "source": [
        "# your code goes here "
      ],
      "execution_count": null,
      "outputs": []
    },
    {
      "cell_type": "code",
      "metadata": {
        "id": "X4tBnLRpgjyM",
        "colab": {
          "base_uri": "https://localhost:8080/"
        },
        "outputId": "70af0a16-b68f-43af-a5e8-b8e913591d88"
      },
      "source": [
        " building the neural network\n",
        "\n",
        "(trainX, trainY), (testX, testY) = mnist.load_data()\n",
        "\n",
        "# flatten the data\n",
        "trainX = trainX.reshape(-1, 784) #28*28=784\n",
        "testX = testX.reshape(-1, 784)\n",
        "\n",
        "\n",
        "train_norm = trainX.astype('float32')\n",
        "test_norm = testX.astype('float32')\n",
        "# normalize to range 0-1\n",
        "train_norm = train_norm / 255.0\n",
        "test_norm = test_norm / 255.0 #Data normalization is an important step which ensures that each input parameter (pixel, in this case)\n",
        "#has a similar data distribution. This makes convergence faster while training the network\n",
        "\n",
        "\n",
        "# one hot encode target values\n",
        "trainY = keras.utils.to_categorical(trainY)\n",
        "testY = keras.utils.to_categorical(testY)\n",
        "train_norm.shape , test_norm.shape\n",
        "\n",
        "model = Sequential()\n",
        "model.add(Dense(784, activation='relu', input_shape=(784,)))\n",
        "model.add(Dense(240, activation='relu'))\n",
        "model.add(Dense(120, activation='relu'))\n",
        "model.add(Dense(num_classes, activation='softmax'))\n",
        "\n",
        "model.compile(\n",
        "    loss='categorical_crossentropy', # notice this isn't MSE because we're not doing regression\n",
        "    optimizer=SGD(),\n",
        "    metrics=['accuracy'])            # want to monitor accuracy over training\n",
        "\n",
        "\n",
        "# 128 images in each batch\n",
        "batch_size = 128\n",
        "# train for 5 steps\n",
        "epochs = 32\n",
        "\n",
        "history = model.fit(\n",
        "    trainX, trainY,                 # training data to learn from \n",
        "    batch_size=batch_size,            # size of batches\n",
        "    epochs=epochs,                    # how many iterations we train for \n",
        "    validation_data=(testX, testY)) # validation data to test on\n",
        "\n"
      ],
      "execution_count": null,
      "outputs": [
        {
          "output_type": "stream",
          "text": [
            "Epoch 1/32\n",
            "469/469 [==============================] - 2s 3ms/step - loss: nan - accuracy: 0.0994 - val_loss: nan - val_accuracy: 0.0980\n",
            "Epoch 2/32\n",
            "469/469 [==============================] - 1s 3ms/step - loss: nan - accuracy: 0.1000 - val_loss: nan - val_accuracy: 0.0980\n",
            "Epoch 3/32\n",
            "469/469 [==============================] - 1s 3ms/step - loss: nan - accuracy: 0.0978 - val_loss: nan - val_accuracy: 0.0980\n",
            "Epoch 4/32\n",
            "469/469 [==============================] - 1s 3ms/step - loss: nan - accuracy: 0.0985 - val_loss: nan - val_accuracy: 0.0980\n",
            "Epoch 5/32\n",
            "469/469 [==============================] - 1s 3ms/step - loss: nan - accuracy: 0.0987 - val_loss: nan - val_accuracy: 0.0980\n",
            "Epoch 6/32\n",
            "469/469 [==============================] - 1s 3ms/step - loss: nan - accuracy: 0.0987 - val_loss: nan - val_accuracy: 0.0980\n",
            "Epoch 7/32\n",
            "469/469 [==============================] - 1s 3ms/step - loss: nan - accuracy: 0.0996 - val_loss: nan - val_accuracy: 0.0980\n",
            "Epoch 8/32\n",
            "469/469 [==============================] - 1s 3ms/step - loss: nan - accuracy: 0.0976 - val_loss: nan - val_accuracy: 0.0980\n",
            "Epoch 9/32\n",
            "469/469 [==============================] - 1s 3ms/step - loss: nan - accuracy: 0.0983 - val_loss: nan - val_accuracy: 0.0980\n",
            "Epoch 10/32\n",
            "469/469 [==============================] - 1s 3ms/step - loss: nan - accuracy: 0.0982 - val_loss: nan - val_accuracy: 0.0980\n",
            "Epoch 11/32\n",
            "469/469 [==============================] - 1s 3ms/step - loss: nan - accuracy: 0.0979 - val_loss: nan - val_accuracy: 0.0980\n",
            "Epoch 12/32\n",
            "469/469 [==============================] - 1s 3ms/step - loss: nan - accuracy: 0.0972 - val_loss: nan - val_accuracy: 0.0980\n",
            "Epoch 13/32\n",
            "469/469 [==============================] - 1s 3ms/step - loss: nan - accuracy: 0.0965 - val_loss: nan - val_accuracy: 0.0980\n",
            "Epoch 14/32\n",
            "469/469 [==============================] - 1s 3ms/step - loss: nan - accuracy: 0.0978 - val_loss: nan - val_accuracy: 0.0980\n",
            "Epoch 15/32\n",
            "469/469 [==============================] - 1s 3ms/step - loss: nan - accuracy: 0.0975 - val_loss: nan - val_accuracy: 0.0980\n",
            "Epoch 16/32\n",
            "469/469 [==============================] - 1s 3ms/step - loss: nan - accuracy: 0.0993 - val_loss: nan - val_accuracy: 0.0980\n",
            "Epoch 17/32\n",
            "469/469 [==============================] - 1s 3ms/step - loss: nan - accuracy: 0.0988 - val_loss: nan - val_accuracy: 0.0980\n",
            "Epoch 18/32\n",
            "469/469 [==============================] - 1s 3ms/step - loss: nan - accuracy: 0.0987 - val_loss: nan - val_accuracy: 0.0980\n",
            "Epoch 19/32\n",
            "469/469 [==============================] - 1s 3ms/step - loss: nan - accuracy: 0.0978 - val_loss: nan - val_accuracy: 0.0980\n",
            "Epoch 20/32\n",
            "469/469 [==============================] - 1s 3ms/step - loss: nan - accuracy: 0.0978 - val_loss: nan - val_accuracy: 0.0980\n",
            "Epoch 21/32\n",
            "469/469 [==============================] - 1s 3ms/step - loss: nan - accuracy: 0.0963 - val_loss: nan - val_accuracy: 0.0980\n",
            "Epoch 22/32\n",
            "469/469 [==============================] - 1s 3ms/step - loss: nan - accuracy: 0.0965 - val_loss: nan - val_accuracy: 0.0980\n",
            "Epoch 23/32\n",
            "469/469 [==============================] - 1s 3ms/step - loss: nan - accuracy: 0.1005 - val_loss: nan - val_accuracy: 0.0980\n",
            "Epoch 24/32\n",
            "469/469 [==============================] - 1s 3ms/step - loss: nan - accuracy: 0.0991 - val_loss: nan - val_accuracy: 0.0980\n",
            "Epoch 25/32\n",
            "469/469 [==============================] - 1s 3ms/step - loss: nan - accuracy: 0.1006 - val_loss: nan - val_accuracy: 0.0980\n",
            "Epoch 26/32\n",
            "469/469 [==============================] - 1s 3ms/step - loss: nan - accuracy: 0.0979 - val_loss: nan - val_accuracy: 0.0980\n",
            "Epoch 27/32\n",
            "469/469 [==============================] - 1s 3ms/step - loss: nan - accuracy: 0.0962 - val_loss: nan - val_accuracy: 0.0980\n",
            "Epoch 28/32\n",
            "469/469 [==============================] - 1s 3ms/step - loss: nan - accuracy: 0.1001 - val_loss: nan - val_accuracy: 0.0980\n",
            "Epoch 29/32\n",
            "469/469 [==============================] - 1s 3ms/step - loss: nan - accuracy: 0.1001 - val_loss: nan - val_accuracy: 0.0980\n",
            "Epoch 30/32\n",
            "469/469 [==============================] - 1s 3ms/step - loss: nan - accuracy: 0.0992 - val_loss: nan - val_accuracy: 0.0980\n",
            "Epoch 31/32\n",
            "469/469 [==============================] - 1s 3ms/step - loss: nan - accuracy: 0.0994 - val_loss: nan - val_accuracy: 0.0980\n",
            "Epoch 32/32\n",
            "469/469 [==============================] - 1s 3ms/step - loss: nan - accuracy: 0.0984 - val_loss: nan - val_accuracy: 0.0980\n"
          ],
          "name": "stdout"
        }
      ]
    },
    {
      "cell_type": "markdown",
      "metadata": {
        "id": "0roS-TkNpqnB"
      },
      "source": [
        "__The CNN with VGG block gave better results than the FCNN. This is because the CNN takes into account the placement of parts within the images better using convolutions. I used are 32 epochs for each__"
      ]
    },
    {
      "cell_type": "markdown",
      "source": [
        "### Autoencoder"
      ],
      "metadata": {
        "id": "tSOGVuXSg0aX"
      }
    },
    {
      "cell_type": "code",
      "metadata": {
        "id": "qxYImVWM6z4f",
        "colab": {
          "base_uri": "https://localhost:8080/",
          "height": 1000
        },
        "outputId": "f2a3e90c-b420-4735-c91c-caa86431f82e"
      },
      "source": [
        "# Your code goes here\n",
        "\n",
        "import keras\n",
        "from keras import layers\n",
        "\n",
        "##### We'll start simple, with a single fully-connected neural layer as encoder and as decoder:\n",
        "\n",
        "# This is the size of our encoded representations\n",
        "encoding_dim = 32  # 32 floats -> compression of factor 24.5, assuming the input is 784 floats\n",
        "\n",
        "# This is our input image\n",
        "input_img = keras.Input(shape=(784,))\n",
        "# \"encoded\" is the encoded representation of the input\n",
        "encoded = layers.Dense(encoding_dim, activation='relu')(input_img)\n",
        "# \"decoded\" is the lossy reconstruction of the input\n",
        "decoded = layers.Dense(784, activation='sigmoid')(encoded)\n",
        "\n",
        "# This model maps an input to its reconstruction\n",
        "autoencoder = keras.Model(input_img, decoded)\n",
        "\n",
        "autoencoder.summary()\n",
        "\n",
        "############################################################################## Encoder model\n",
        "\n",
        "# This model maps an input to its encoded representation\n",
        "encoder = keras.Model(input_img, encoded)\n",
        "\n",
        "##############################################################################  Decoder model\n",
        "# This is our encoded (32-dimensional) input\n",
        "encoded_input = keras.Input(shape=(encoding_dim,))\n",
        "# Retrieve the last layer of the autoencoder model\n",
        "decoder_layer = autoencoder.layers[-1]\n",
        "# Create the decoder model\n",
        "decoder = keras.Model(encoded_input, decoder_layer(encoded_input))\n",
        "############################################################################## \n",
        "decoder.summary()\n",
        "\n",
        "from keras.datasets import mnist\n",
        "import numpy as np\n",
        "(x_train, _), (x_test, _) = mnist.load_data()\n",
        "\n",
        "x_train = x_train.astype('float32') / 255.\n",
        "x_test = x_test.astype('float32') / 255.\n",
        "x_train = x_train.reshape((len(x_train), np.prod(x_train.shape[1:])))\n",
        "x_test = x_test.reshape((len(x_test), np.prod(x_test.shape[1:])))\n",
        "print(x_train.shape)\n",
        "print(x_test.shape)\n",
        "\n",
        "autoencoder.compile(optimizer='adam', loss='binary_crossentropy')\n",
        "autoencoder.fit(x_train, x_train,\n",
        "                epochs=32,\n",
        "                batch_size=256,\n",
        "                shuffle=True,\n",
        "                validation_data=(x_test, x_test))\n",
        "\n",
        "# Encode and decode some digits\n",
        "# Note that we take them from the *test* set\n",
        "encoded_imgs = encoder.predict(x_test)\n",
        "decoded_imgs = decoder.predict(encoded_imgs)\n",
        "\n",
        "import matplotlib.pyplot as plt\n",
        "\n",
        "n = 10  # How many digits we will display\n",
        "plt.figure(figsize=(20, 4))\n",
        "for i in range(n):\n",
        "    # Display original\n",
        "    ax = plt.subplot(2, n, i + 1)\n",
        "    plt.imshow(x_test[i].reshape(28, 28))\n",
        "    plt.gray()\n",
        "    ax.get_xaxis().set_visible(False)\n",
        "    ax.get_yaxis().set_visible(False)\n",
        "\n",
        "    # Display reconstruction\n",
        "    ax = plt.subplot(2, n, i + 1 + n)\n",
        "    plt.imshow(decoded_imgs[i].reshape(28, 28))\n",
        "    plt.gray()\n",
        "    ax.get_xaxis().set_visible(False)\n",
        "    ax.get_yaxis().set_visible(False)\n",
        "plt.show()\n"
      ],
      "execution_count": null,
      "outputs": [
        {
          "output_type": "stream",
          "text": [
            "Model: \"model\"\n",
            "_________________________________________________________________\n",
            "Layer (type)                 Output Shape              Param #   \n",
            "=================================================================\n",
            "input_1 (InputLayer)         [(None, 784)]             0         \n",
            "_________________________________________________________________\n",
            "dense_22 (Dense)             (None, 32)                25120     \n",
            "_________________________________________________________________\n",
            "dense_23 (Dense)             (None, 784)               25872     \n",
            "=================================================================\n",
            "Total params: 50,992\n",
            "Trainable params: 50,992\n",
            "Non-trainable params: 0\n",
            "_________________________________________________________________\n",
            "Model: \"model_2\"\n",
            "_________________________________________________________________\n",
            "Layer (type)                 Output Shape              Param #   \n",
            "=================================================================\n",
            "input_2 (InputLayer)         [(None, 32)]              0         \n",
            "_________________________________________________________________\n",
            "dense_23 (Dense)             (None, 784)               25872     \n",
            "=================================================================\n",
            "Total params: 25,872\n",
            "Trainable params: 25,872\n",
            "Non-trainable params: 0\n",
            "_________________________________________________________________\n",
            "(60000, 784)\n",
            "(10000, 784)\n",
            "Epoch 1/32\n",
            "235/235 [==============================] - 1s 4ms/step - loss: 0.3825 - val_loss: 0.1899\n",
            "Epoch 2/32\n",
            "235/235 [==============================] - 1s 3ms/step - loss: 0.1791 - val_loss: 0.1520\n",
            "Epoch 3/32\n",
            "235/235 [==============================] - 1s 3ms/step - loss: 0.1483 - val_loss: 0.1333\n",
            "Epoch 4/32\n",
            "235/235 [==============================] - 1s 3ms/step - loss: 0.1318 - val_loss: 0.1210\n",
            "Epoch 5/32\n",
            "235/235 [==============================] - 1s 3ms/step - loss: 0.1202 - val_loss: 0.1123\n",
            "Epoch 6/32\n",
            "235/235 [==============================] - 1s 3ms/step - loss: 0.1124 - val_loss: 0.1062\n",
            "Epoch 7/32\n",
            "235/235 [==============================] - 1s 3ms/step - loss: 0.1065 - val_loss: 0.1020\n",
            "Epoch 8/32\n",
            "235/235 [==============================] - 1s 3ms/step - loss: 0.1024 - val_loss: 0.0991\n",
            "Epoch 9/32\n",
            "235/235 [==============================] - 1s 3ms/step - loss: 0.0996 - val_loss: 0.0969\n",
            "Epoch 10/32\n",
            "235/235 [==============================] - 1s 3ms/step - loss: 0.0979 - val_loss: 0.0955\n",
            "Epoch 11/32\n",
            "235/235 [==============================] - 1s 3ms/step - loss: 0.0964 - val_loss: 0.0945\n",
            "Epoch 12/32\n",
            "235/235 [==============================] - 1s 4ms/step - loss: 0.0959 - val_loss: 0.0939\n",
            "Epoch 13/32\n",
            "235/235 [==============================] - 1s 3ms/step - loss: 0.0951 - val_loss: 0.0936\n",
            "Epoch 14/32\n",
            "235/235 [==============================] - 1s 3ms/step - loss: 0.0948 - val_loss: 0.0932\n",
            "Epoch 15/32\n",
            "235/235 [==============================] - 1s 3ms/step - loss: 0.0944 - val_loss: 0.0929\n",
            "Epoch 16/32\n",
            "235/235 [==============================] - 1s 3ms/step - loss: 0.0939 - val_loss: 0.0928\n",
            "Epoch 17/32\n",
            "235/235 [==============================] - 1s 3ms/step - loss: 0.0942 - val_loss: 0.0926\n",
            "Epoch 18/32\n",
            "235/235 [==============================] - 1s 3ms/step - loss: 0.0938 - val_loss: 0.0924\n",
            "Epoch 19/32\n",
            "235/235 [==============================] - 1s 3ms/step - loss: 0.0936 - val_loss: 0.0923\n",
            "Epoch 20/32\n",
            "235/235 [==============================] - 1s 3ms/step - loss: 0.0935 - val_loss: 0.0922\n",
            "Epoch 21/32\n",
            "235/235 [==============================] - 1s 3ms/step - loss: 0.0934 - val_loss: 0.0921\n",
            "Epoch 22/32\n",
            "235/235 [==============================] - 1s 3ms/step - loss: 0.0932 - val_loss: 0.0921\n",
            "Epoch 23/32\n",
            "235/235 [==============================] - 1s 3ms/step - loss: 0.0931 - val_loss: 0.0921\n",
            "Epoch 24/32\n",
            "235/235 [==============================] - 1s 3ms/step - loss: 0.0933 - val_loss: 0.0919\n",
            "Epoch 25/32\n",
            "235/235 [==============================] - 1s 3ms/step - loss: 0.0930 - val_loss: 0.0919\n",
            "Epoch 26/32\n",
            "235/235 [==============================] - 1s 3ms/step - loss: 0.0929 - val_loss: 0.0919\n",
            "Epoch 27/32\n",
            "235/235 [==============================] - 1s 3ms/step - loss: 0.0931 - val_loss: 0.0918\n",
            "Epoch 28/32\n",
            "235/235 [==============================] - 1s 3ms/step - loss: 0.0929 - val_loss: 0.0918\n",
            "Epoch 29/32\n",
            "235/235 [==============================] - 1s 3ms/step - loss: 0.0929 - val_loss: 0.0918\n",
            "Epoch 30/32\n",
            "235/235 [==============================] - 1s 3ms/step - loss: 0.0929 - val_loss: 0.0917\n",
            "Epoch 31/32\n",
            "235/235 [==============================] - 1s 3ms/step - loss: 0.0928 - val_loss: 0.0917\n",
            "Epoch 32/32\n",
            "235/235 [==============================] - 1s 3ms/step - loss: 0.0931 - val_loss: 0.0917\n"
          ],
          "name": "stdout"
        },
        {
          "output_type": "display_data",
          "data": {
            "image/png": "[encoded data removed]",
            "text/plain": [
              "<Figure size 1440x288 with 20 Axes>"
            ]
          },
          "metadata": {
            "tags": [],
            "needs_background": "light"
          }
        }
      ]
    },
    {
      "cell_type": "code",
      "metadata": {
        "id": "vCfSPP9xz0JV"
      },
      "source": [
        ""
      ],
      "execution_count": null,
      "outputs": []
    }
  ]
}